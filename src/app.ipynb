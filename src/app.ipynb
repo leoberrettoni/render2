{
 "cells": [
  {
   "cell_type": "code",
   "execution_count": 1,
   "metadata": {},
   "outputs": [],
   "source": [
    "import pandas as pd\n",
    "import dash\n",
    "from dash import dcc, html, Input, Output, callback\n",
    "import dash_bootstrap_components as dbc\n",
    "import matplotlib.pyplot as plt\n",
    "from dash import dash_table\n",
    "\n",
    "df=pd.read_excel('/Users/leo/Documents/Scouting/Real/dati/Live.xlsx')\n",
    "df['Azione']=df['Azione'].replace('pr','Pick and Roll')\n",
    "df['Azione']=df['Azione'].replace('pen','Penetrazione')\n",
    "df['Azione']=df['Azione'].replace('us','Uscite')\n",
    "df['Azione']=df['Azione'].replace('tr','Transizione')\n",
    "df['Azione']=df['Azione'].replace('ds','Difesa schierata')\n",
    "df['Azione']=df['Azione'].replace('iso','Isolamento')\n",
    "df['Azione']=df['Azione'].replace('ro','Rimbalzo offensivo')\n",
    "df['Azione']=df['Azione'].replace('cons','Consegnato')\n",
    "df['Azione']=df['Azione'].replace('pb','Post Basso')\n",
    "\n",
    "\n",
    "df_ppp=df.groupby(['Squadra', 'quarto']).agg({'Squadra': 'count', 'Punti realizzati': 'sum', 'Punti potenziali':'sum'}).rename(columns={'Squadra':'Possessi'}).reset_index()\n"
   ]
  },
  {
   "cell_type": "code",
   "execution_count": 2,
   "metadata": {},
   "outputs": [
    {
     "data": {
      "text/html": [
       "\n",
       "        <iframe\n",
       "            width=\"100%\"\n",
       "            height=\"650\"\n",
       "            src=\"http://127.0.0.1:8050/\"\n",
       "            frameborder=\"0\"\n",
       "            allowfullscreen\n",
       "            \n",
       "        ></iframe>\n",
       "        "
      ],
      "text/plain": [
       "<IPython.lib.display.IFrame at 0x1474d9910>"
      ]
     },
     "metadata": {},
     "output_type": "display_data"
    }
   ],
   "source": [
    "app = dash.Dash(__name__, external_stylesheets=[dbc.themes.SPACELAB])\n",
    "server = app.server\n",
    "\n",
    "mytitle = dcc.Markdown(children='')\n",
    "mytable = dash_table.DataTable()\n",
    "\n",
    "# Setting the dropdown menu\n",
    "dropdown1 = dcc.Dropdown(\n",
    "    options=[{'label': i, 'value': i} for i in df['Squadra'].unique()],\n",
    "    value=['Alessio', 'Fala'],\n",
    "    multi=True,\n",
    "    clearable=False\n",
    ")\n",
    "\n",
    "# dropdown2 = dcc.Dropdown(\n",
    "#     options=[{'label': i, 'value': i} for i in df['Partita'].unique()],\n",
    "#     value=['San Cesareo'],\n",
    "#     multi=True,\n",
    "#     clearable=False\n",
    "# )\n",
    "\n",
    "layout = dbc.Container([\n",
    "    dbc.Row([\n",
    "        dbc.Col(html.Div([\n",
    "            html.H2('Mappa di tiro'),\n",
    "            html.Div([\n",
    "                html.P(\"In questa sezione è possobile visualizzare varie mappe di tiro. è possibile\\\n",
    "                filtrare per giocatore o per partita a seconda dell informazioni che si vogliono ottenere.\")\n",
    "                ])\n",
    "        ]))]),\n",
    "    dbc.Row([\n",
    "        dbc.Col([mytitle], width=6)\n",
    "    ], justify='center'),\n",
    "    dbc.Row([\n",
    "        dbc.Col([mytable], width=12)\n",
    "    ]),\n",
    "    dbc.Row([\n",
    "        dbc.Col([html.Label('Giocatori'), dropdown1], width=6),\n",
    "        #dbc.Col([html.Label('Partita'), dropdown2], width=6)\n",
    "    ], justify='left'),\n",
    "    dbc.Row([\n",
    "        dbc.Col([\n",
    "            html.Div(style={'height': '100px'})\n",
    "            ])\n",
    "        ], justify='center')\n",
    "], fluid=True)\n",
    "\n",
    "\n",
    "# Callbacks and function definitions\n",
    "\n",
    "@app.callback(\n",
    "    Output(mytable, 'data'),\n",
    "    [Input(dropdown1, 'value')]  # You can also include the second dropdown in the future\n",
    ")\n",
    "def update_table(squadra):\n",
    "    df_filtered = df_ppp[df_ppp['Squadra'].isin(squadra)]\n",
    "    df_filtered['Punti x Possesso'] = (df_filtered['Punti realizzati'] / df_filtered['Possessi']).round(2)\n",
    "    df_filtered['Punti potenziali x Possesso'] = (df_filtered['Punti potenziali'] / df_filtered['Possessi']).round(2)\n",
    "    \n",
    "    # Convert DataFrame to dictionary for DataTable\n",
    "    data = df_filtered.to_dict('records')\n",
    "    return data\n",
    "\n",
    "if __name__ == '__main__':\n",
    "    app.layout = layout\n",
    "    app.run_server(debug=True, port=8050)\n"
   ]
  }
 ],
 "metadata": {
  "kernelspec": {
   "display_name": "dash",
   "language": "python",
   "name": "python3"
  },
  "language_info": {
   "codemirror_mode": {
    "name": "ipython",
    "version": 3
   },
   "file_extension": ".py",
   "mimetype": "text/x-python",
   "name": "python",
   "nbconvert_exporter": "python",
   "pygments_lexer": "ipython3",
   "version": "3.11.5"
  }
 },
 "nbformat": 4,
 "nbformat_minor": 2
}
